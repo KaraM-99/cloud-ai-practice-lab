{
 "cells": [
  {
   "cell_type": "markdown",
   "id": "a0c8585d",
   "metadata": {},
   "source": [
    "# 🤖 AI Practice Notebook\n",
    "\n",
    "This notebook generates text using the GPT-2 model from Hugging Face."
   ]
  },
  {
   "cell_type": "code",
   "execution_count": null,
   "id": "29455b5b",
   "metadata": {},
   "outputs": [],
   "source": [
    "from transformers import pipeline"
   ]
  },
  {
   "cell_type": "code",
   "execution_count": null,
   "id": "f2694d1f",
   "metadata": {},
   "outputs": [],
   "source": [
    "# Load a text generation pipeline\n",
    "generator = pipeline(\"text-generation\", model=\"gpt2\")"
   ]
  },
  {
   "cell_type": "code",
   "execution_count": null,
   "id": "2137373f",
   "metadata": {},
   "outputs": [],
   "source": [
    "# Prompt to complete\n",
    "prompt = \"Cloud computing is transforming the world because\""
   ]
  },
  {
   "cell_type": "code",
   "execution_count": null,
   "id": "36125aba",
   "metadata": {},
   "outputs": [],
   "source": [
    "# Generate text\n",
    "result = generator(prompt, max_length=50, num_return_sequences=1)"
   ]
  },
  {
   "cell_type": "code",
   "execution_count": null,
   "id": "3f83a0a6",
   "metadata": {},
   "outputs": [],
   "source": [
    "# Show result\n",
    "print(result[0]['generated_text'])"
   ]
  }
 ],
 "metadata": {},
 "nbformat": 4,
 "nbformat_minor": 5
}